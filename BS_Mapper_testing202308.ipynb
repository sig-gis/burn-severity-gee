{
 "cells": [
  {
   "cell_type": "code",
   "execution_count": 1,
   "metadata": {},
   "outputs": [],
   "source": [
    "import ee\n",
    "ee.Initialize(project='pyregence-ee')\n",
    "import datetime\n",
    "import scripts.analysis_functions as af\n",
    "import scripts.utils as utils\n",
    "%load_ext autoreload\n",
    "%autoreload 2"
   ]
  },
  {
   "attachments": {},
   "cell_type": "markdown",
   "metadata": {},
   "source": [
    "### Run BS Mapper for a particular year"
   ]
  },
  {
   "cell_type": "code",
   "execution_count": null,
   "metadata": {},
   "outputs": [],
   "source": [
    "#\n",
    "#\n",
    "# TODO\n",
    "\n",
    "##### IMPORT DATA #####\n",
    "# One set of yearly fires, no need for remove_recent() or year/ac filtering, that was already done upon data fetch\n",
    "\n",
    "#***\n",
    "# USER: Pick either NICF or MTBS import variables, select year that matches with data import (manual)\n",
    "#***\n",
    "\n",
    "yr = '2020'\n",
    "\n",
    "# # NIFC option\n",
    "# fires_asset = f\"projects/pyregence-ee/assets/conus/nifc/nifc_fires_{yr}_gte100ac_20230406\"\n",
    "# fires = ee.FeatureCollection(fires_asset)\n",
    "# desc = f'nifc_bs_{yr}_gte100acres_20230406'\n",
    "# asset_folder = 'projects/pyregence-ee/assets/conus/nifc'\n",
    "\n",
    "# #MTBS option\n",
    "# fires = ee.FeatureCollection(\"projects/pyregence-ee/assets/conus/mtbs/mtbs_fires_2020_20230406\")\n",
    "# desc = f'mtbs_bs_2020_20230406'\n",
    "# asset_folder = 'projects/pyregence-ee/assets/conus/mtbs'\n",
    "\n",
    "# Test / development case, limited numbers of fires\n",
    "fires_raw = ee.FeatureCollection('projects/pyregence-ee/assets/conus/mtbs/mtbs_fires_2021_20230810') #get correct year 2020? TODO\n",
    "irwin_list = ['ACD5C207-BB83-4419-977D-3F64778081A3', '499D6545-2A19-458A-8C7C-554932C6B86E'] # get 2020 irwin IDs TODO\n",
    "    #BOBCAT = , DOME = , CASTLE = , \n",
    "fires = fires_raw.filter(ee.Filter.inList('irwinID',irwin_list))\n",
    "desc = f'test_20230xxx'\n",
    "asset_folder = 'projects/pyregence-ee/assets/fires_bs_tool/dmn_testing'\n",
    "\n",
    "print(f'Total Fires in FeatureCollection: {fires.size().getInfo()}')\n",
    "\n",
    "\n",
    "##### SET (SIMULATED) RUN DATE #####\n",
    "#  TODO\n",
    "\n",
    "# simulation_date = \n",
    "\n",
    "# def set_sim_date(ee.Feature)\n",
    "\n",
    "# cut off date filtering needed?? TODO\n",
    "#     fires = fires.filter(ee.Filter.lte('Discovery','2022-07-01'))\n",
    "#     print(fires.sort('Discovery',False).first().getInfo()['properties'])\n",
    "#     print(f'Fires after filter: {fires.size().getInfo()}')\n",
    "\n",
    "\n",
    "\n",
    "##### RUN BURN SEVERITY #####\n",
    "\n",
    "# return BS ee.Image for each fire ee.Feature\n",
    "bs_coll = ee.FeatureCollection(fires).map(af.bs_calc_v2309)\n",
    "\n",
    "# Export intermediate: individual features, severity classified\n",
    "# TODO\n",
    "\n",
    "# composite that ee.ImageCollection with a max() reducer\n",
    "bs_composite = ee.ImageCollection(bs_coll).max().rename('SEVERITY').set('Year',int(yr)) \n",
    "\n",
    "\n",
    "##### EXPORT FINAL #####\n",
    "\n",
    "# To Asset\n",
    "\n",
    "utils.exportImgtoAsset(bs_composite, \n",
    "                    desc=desc,\n",
    "                    region=None,\n",
    "                    asset_folder= asset_folder, \n",
    "                    export_type='conus',\n",
    "                    export=True)\n",
    "                    #default=sensor) # TODO check if need to add sensor here, for NICF vs MTBS\n",
    "       "
   ]
  },
  {
   "attachments": {},
   "cell_type": "markdown",
   "metadata": {},
   "source": [
    "# For one fire \n",
    "### Select a fire from a pre-existing fire featurecollection or provide your own fire feature asset (must have 'Discovery' property with value of format ee.String('yyyy-mm-dd') )\n"
   ]
  },
  {
   "cell_type": "code",
   "execution_count": 2,
   "metadata": {},
   "outputs": [
    {
     "name": "stdout",
     "output_type": "stream",
     "text": [
      "Total Fires in FeatureCollection: 1022\n",
      "Filtered fire size: 1\n",
      "windy\n"
     ]
    }
   ],
   "source": [
    "# Running for a particular fire\n",
    "\n",
    "# Select the fire based on irwinID (or name and edit filter below)\n",
    "#fire_name = 'KNP COMPLEX' \n",
    "#fire_irwin = '499D6545-2A19-458A-8C7C-554932C6B86E'\n",
    "#fire_name = 'WINDY' #there are 2 WINDY fires, using irwinID # fire_irwin = 'ACD5C207-BB83-4419-977D-3F64778081A3'\n",
    "fire_irwin = 'ACD5C207-BB83-4419-977D-3F64778081A3'\n",
    "\n",
    "# Read in fire data\n",
    "fires = ee.FeatureCollection('projects/pyregence-ee/assets/conus/mtbs/mtbs_fires_2021_20230810')\n",
    "print(f'Total Fires in FeatureCollection: {fires.size().getInfo()}')\n",
    "#print(fires.first().getInfo()['properties'])\n",
    "#print(fires.aggregate_array('Incid_Name').distinct().sort().getInfo())\n",
    "\n",
    "# Filter to desired fire\n",
    "#fires_f = fires.filter(ee.Filter.eq('Incid_Name',fire_name))\n",
    "fires_f = fires.filter(ee.Filter.eq('irwinID',fire_irwin))\n",
    "print(f'Filtered fire size: {fires_f.size().getInfo()}')\n",
    "\n",
    "fire_name = fires_f.first().get('Incid_Name').getInfo().lower() #brittle, make sure only 1 feature\n",
    "print(fire_name)\n",
    "\n",
    "# Run burn severity tool \n",
    "bs_coll = ee.FeatureCollection(fires_f).map(af.bs_calc_new)\n",
    "#bs_fire = af.bs_calc_new(fires_f.first()) #testing direct function call\n",
    "#print(bs_fire.propertyNames().getInfo())\n",
    "# while max() isn't really needed for 1 fire, keeping the pattern of the multi-fire runs\n",
    "bs_composite = ee.ImageCollection(bs_coll).max().add(1).rename('SEVERITY') #shift severity values +1 so 0 can be nodata\n",
    "\n",
    "# To Asset\n",
    "# get current date to put into asset name\n",
    "cur_date = datetime.datetime.now().strftime(\"%Y%m%d\")\n",
    "desc = f'mtbs_bs_{str(fire_name).replace(\" \", \"\")}_{str(cur_date)}'\n",
    "print(desc)\n",
    "#fails with Image.clipToBoundsAndScale: The geometry for image clipping must be bounded.\n",
    "utils.exportImgtoAsset(bs_composite,  \n",
    "                    desc=desc,\n",
    "                    region=bs_coll.geometry(),\n",
    "                    asset_folder='projects/pyregence-ee/assets/fires_bs_tool/dmn_testing', \n",
    "                    export_type='single_fire', \n",
    "                    export=False) \n"
   ]
  },
  {
   "cell_type": "code",
   "execution_count": 8,
   "metadata": {},
   "outputs": [
    {
     "name": "stdout",
     "output_type": "stream",
     "text": [
      "Total Fires in FeatureCollection: 1022\n",
      "Filtered fire size: 1\n",
      "knp complex\n",
      "mtbs_bs_rdnbr_knpcomplex_20230829\n",
      "export task started: projects/pyregence-ee/assets/fires_bs_tool/dmn_testing/mtbs_bs_rdnbr_knpcomplex_20230829\n"
     ]
    }
   ],
   "source": [
    "# Running for a particular fire - ONLY CALC RDNBR\n",
    "\n",
    "# Select the fire based on irwinID \n",
    "    #fire_name = 'KNP COMPLEX' \n",
    "#fire_irwin = '499D6545-2A19-458A-8C7C-554932C6B86E'\n",
    "    #fire_name = 'WINDY' #there are 2 WINDY fires, using irwinID # fire_irwin = 'ACD5C207-BB83-4419-977D-3F64778081A3'\n",
    "fire_irwin = 'ACD5C207-BB83-4419-977D-3F64778081A3'\n",
    "\n",
    "# Read in fire data\n",
    "fires = ee.FeatureCollection('projects/pyregence-ee/assets/conus/mtbs/mtbs_fires_2021_20230810')\n",
    "print(f'Total Fires in FeatureCollection: {fires.size().getInfo()}')\n",
    "#print(fires.first().getInfo()['properties'])\n",
    "#print(fires.aggregate_array('Incid_Name').distinct().sort().getInfo())\n",
    "\n",
    "# Filter to desired fire\n",
    "#fires_f = fires.filter(ee.Filter.eq('Incid_Name',fire_name))\n",
    "fires_f = fires.filter(ee.Filter.eq('irwinID',fire_irwin))\n",
    "print(f'Filtered fire size: {fires_f.size().getInfo()}')\n",
    "\n",
    "fire_name = fires_f.first().get('Incid_Name').getInfo().lower() #brittle, make sure only 1 feature\n",
    "print(fire_name)\n",
    "\n",
    "# CalC RDNBR\n",
    "rdnbr_coll = ee.FeatureCollection(fires_f).map(af.rdnbr_only_calc)\n",
    "#bs_fire = af.bs_calc_new(fires_f.first()) #testing direct function call\n",
    "#print(bs_fire.propertyNames().getInfo())\n",
    "# while max() isn't really needed for 1 fire, keeping the pattern of the multi-fire runs\n",
    "rdnbr_composite = ee.ImageCollection(rdnbr_coll).max().rename('RDNBR') \n",
    "\n",
    "# To Asset\n",
    "# get current date to put into asset name\n",
    "cur_date = datetime.datetime.now().strftime(\"%Y%m%d\")\n",
    "desc = f'mtbs_bs_rdnbr_{str(fire_name).replace(\" \", \"\")}_{str(cur_date)}'\n",
    "print(desc)\n",
    "#fails with Image.clipToBoundsAndScale: The geometry for image clipping must be bounded.\n",
    "utils.exportImgtoAsset(rdnbr_composite,  \n",
    "                    desc=desc,\n",
    "                    region=rdnbr_coll.geometry(),\n",
    "                    asset_folder='projects/pyregence-ee/assets/fires_bs_tool/dmn_testing', \n",
    "                    export_type='single_fire', \n",
    "                    export=False)\n"
   ]
  },
  {
   "cell_type": "markdown",
   "metadata": {},
   "source": [
    "# ee authentication block"
   ]
  },
  {
   "cell_type": "code",
   "execution_count": null,
   "metadata": {},
   "outputs": [],
   "source": [
    "# import ee\n",
    "# ee.Authenticate()"
   ]
  }
 ],
 "metadata": {
  "kernelspec": {
   "display_name": "Python 3 (ipykernel)",
   "language": "python",
   "name": "python3"
  },
  "language_info": {
   "codemirror_mode": {
    "name": "ipython",
    "version": 3
   },
   "file_extension": ".py",
   "mimetype": "text/x-python",
   "name": "python",
   "nbconvert_exporter": "python",
   "pygments_lexer": "ipython3",
   "version": "3.10.12"
  },
  "vscode": {
   "interpreter": {
    "hash": "5456adbb3bcda72c3f039b556ea69b5085f7c81f44c93a142b7acd907f0ad587"
   }
  }
 },
 "nbformat": 4,
 "nbformat_minor": 4
}
