{
 "cells": [
  {
   "cell_type": "code",
   "execution_count": 1,
   "metadata": {},
   "outputs": [],
   "source": [
    "import ee\n",
    "ee.Initialize(project='pyregence-ee')\n",
    "import datetime\n",
    "import scripts.analysis_functions as af\n",
    "import scripts.utils as utils\n",
    "%load_ext autoreload\n",
    "%autoreload 2"
   ]
  },
  {
   "attachments": {},
   "cell_type": "markdown",
   "metadata": {},
   "source": [
    "### Run BS Mapper for NIFC 2021 and 2022 fire sets"
   ]
  },
  {
   "cell_type": "code",
   "execution_count": null,
   "metadata": {},
   "outputs": [],
   "source": [
    "# One set of yearly fires, no need for remove_recent() or year/ac filtering, that was already done upon data fetch\n",
    "# NIFC\n",
    "yr='2022'\n",
    "fires_asset = f\"projects/pyregence-ee/assets/conus/nifc/nifc_fires_{yr}_gte100ac_20230406\"\n",
    "fires = ee.FeatureCollection(fires_asset)\n",
    "print(f'Total Fires in FeatureCollection: {fires.size().getInfo()}')\n",
    "\n",
    "# filter 2022 fires for a July 1 cut-off (was for FireFactor V2)\n",
    "# if yr=='2022':\n",
    "#     fires = fires.filter(ee.Filter.lte('Discovery','2022-07-01'))\n",
    "#     print(fires.sort('Discovery',False).first().getInfo()['properties'])\n",
    "#     print(f'Fires after filter: {fires.size().getInfo()}')\n",
    "\n",
    "# return BS ee.Image for each fire ee.Feature\n",
    "bs_imgColl = ee.FeatureCollection(fires).map(af.bs_calc_new)\n",
    "\n",
    "# composite that ee.ImageCollection with a max() reducer\n",
    "annual_conus_bs = ee.ImageCollection(bs_imgColl).max().add(1).rename('SEVERITY').set('Year',int(yr)) #shift severity values +1 so 0 can be nodata\n",
    "# To Asset\n",
    "desc = f'nifc_bs_{yr}_gte100acres_20230406'\n",
    "utils.exportImgtoAsset(annual_conus_bs, \n",
    "                    desc=desc,\n",
    "                    region=None,\n",
    "                    asset_folder= \"projects/pyregence-ee/assets/conus/nifc\", \n",
    "                    export_type='conus',\n",
    "                    export=True)\n",
    "                    #default=sensor)\n",
    "       "
   ]
  },
  {
   "cell_type": "code",
   "execution_count": null,
   "metadata": {},
   "outputs": [],
   "source": [
    "# Running for MTBS 2020\n",
    "fires = ee.FeatureCollection(\"projects/pyregence-ee/assets/conus/mtbs/mtbs_fires_2020_20230406\")\n",
    "print(f'Total Fires in FeatureCollection: {fires.size().getInfo()}')\n",
    "\n",
    "bs_imgColl = ee.FeatureCollection(fires).map(af.bs_calc_new)\n",
    "annual_conus_bs = ee.ImageCollection(bs_imgColl).max().add(1).rename('SEVERITY').set('Year',2020) #shift severity values +1 so 0 can be nodata\n",
    "\n",
    "# To Asset\n",
    "desc = f'mtbs_bs_2020_20230406'\n",
    "utils.exportImgtoAsset(annual_conus_bs, \n",
    "                    desc=desc,\n",
    "                    region=None,\n",
    "                    asset_folder= \"projects/pyregence-ee/assets/conus/mtbs\", \n",
    "                    export_type='conus',\n",
    "                    export=True)\n",
    "                    #default=sensor)\n",
    "print('\\n')"
   ]
  },
  {
   "attachments": {},
   "cell_type": "markdown",
   "metadata": {},
   "source": [
    "## Run BS Mapper for MTBS yearly fire perims in a for-loop"
   ]
  },
  {
   "cell_type": "code",
   "execution_count": null,
   "metadata": {},
   "outputs": [],
   "source": [
    "# Running for each year of MTBS fire perims \n",
    "fires = ee.FeatureCollection(\"projects/pyregence-ee/assets/conus/mtbs/mtbs_fires_all_20220928\")\n",
    "print(f'Total Fires in FeatureCollection: {fires.size().getInfo()}')\n",
    "# acre_min = 0 # can filter by Acres field \n",
    "years = [2013,2014,2015,2016,2017,2018,2019,2020]\n",
    "# print(fires.sort('Year',False).first().getInfo()['properties'])\n",
    "# fires = fires.filter(ee.Filter.eq('Year',2021))\n",
    "# print(fires.size().getInfo())\n",
    "for y in years:\n",
    "    fires_f = fires.filter(ee.Filter.eq('Year',int(y)))\n",
    "    # fires_w_filters = gic.remove_recent(fires).filter(ee.Filter.And(ee.Filter.gte('BurnBndAc', acre_min),ee.Filter.eq('Year',y)) )\n",
    "    print(f'Computing Burn Severity for {fires_f.size().getInfo()} fires in {y}: ')\n",
    "\n",
    "    # latest_fire = fires_w_filters.sort('Discovery',False).first()\n",
    "    # print('latest fire: ', latest_fire.get('Discovery').getInfo())\n",
    "\n",
    "    # run_mode = fi.config_mode(latest_fire)\n",
    "    # print(f'run mode: {run_mode}')\n",
    "    \n",
    "    bs_imgColl = ee.FeatureCollection(fires_f).map(af.bs_calc_new)\n",
    "    annual_conus_bs = ee.ImageCollection(bs_imgColl).max().add(1).rename('SEVERITY').set('Year',y) #shift severity values +1 so 0 can be nodata\n",
    "    \n",
    "    # To Asset\n",
    "    desc = f'mtbs_annual_bs_{str(y)}_ImproveWindowing'\n",
    "    utils.exportImgtoAsset(annual_conus_bs, \n",
    "                        desc=desc,\n",
    "                        region=None,\n",
    "                        asset_folder= \"projects/pyregence-ee/assets/conus/mtbs\", \n",
    "                        export_type='conus',\n",
    "                        export=False)\n",
    "                        #default=sensor)\n",
    "    print('\\n')"
   ]
  },
  {
   "attachments": {},
   "cell_type": "markdown",
   "metadata": {},
   "source": [
    "## MTBS annual fire perims 2013-2020"
   ]
  },
  {
   "attachments": {},
   "cell_type": "markdown",
   "metadata": {},
   "source": [
    "# For one fire (takes a Feature)\n",
    "### Select a fire from a pre-existing fire featurecollection or provide your own fire feature asset (must have 'Discovery' property with value of format ee.String('yyyy-mm-dd') )\n"
   ]
  },
  {
   "attachments": {},
   "cell_type": "markdown",
   "metadata": {},
   "source": [
    "## Exports\n",
    "### To export an annual set of fires, use export_type = 'conus', if its a single fire, use export_type = 'single_fire'"
   ]
  },
  {
   "cell_type": "code",
   "execution_count": null,
   "metadata": {},
   "outputs": [],
   "source": [
    "CA = ee.FeatureCollection(\"TIGER/2018/States\").filter(ee.Filter.eq('NAME','California')).first()\n",
    "# Map.addLayer(ee.Feature(CA))\n",
    "# print(ee.Feature(CA).getInfo()['properties'])\n",
    "                                                      \n",
    "# Single Fire export templates\n",
    "# # To Google Drive\n",
    "# desc = 'dixie_bs2020_test_20211227'\n",
    "# utils.exportImgtoDrive(miller,\n",
    "#                         desc,\n",
    "#                         export_type='single_fire',\n",
    "#                         folder='BurnSeverity_outputs',\n",
    "#                         export=True,\n",
    "#                         default=sensor)\n",
    "\n",
    "\n",
    "# # To Asset\n",
    "# desc = 'dixie_bs2020_test_20211227'\n",
    "# utils.exportImgtoAsset(miller, \n",
    "#                         desc=desc, \n",
    "#                         asset_folder= \"users/kwoodward/burn-severity/bs_images\", \n",
    "#                         export_type='single_fire',\n",
    "#                         export=True,\n",
    "#                         default=sensor)\n",
    "\n",
    "# # CONUS/multi-fire export template\n",
    "# # To Google Drive\n",
    "# desc = 'CA_bs2021_nifcFires_20220713'\n",
    "# utils.exportImgtoDrive(annual_conus_bs.clip(CA),\n",
    "#                         desc,\n",
    "#                         export_type='conus',\n",
    "#                         folder='BurnSeverity_outputs',\n",
    "#                         export=False)\n",
    "#                         #default=sensor)\n",
    "\n",
    "\n",
    "# To Asset\n",
    "desc = 'CA_bs2021_nifcFires_20220713'\n",
    "utils.exportImgtoAsset(annual_conus_bs.clip(CA), \n",
    "                        desc=desc, \n",
    "                        asset_folder= \"users/kwoodward/burn-severity/bs_images\", \n",
    "                        export_type='conus',\n",
    "                        export=True)\n",
    "                        #default=sensor)"
   ]
  },
  {
   "cell_type": "markdown",
   "metadata": {},
   "source": [
    "## Running a single fire"
   ]
  },
  {
   "cell_type": "code",
   "execution_count": 2,
   "metadata": {},
   "outputs": [
    {
     "name": "stdout",
     "output_type": "stream",
     "text": [
      "WINDY\n"
     ]
    },
    {
     "ename": "NameError",
     "evalue": "name 'desc' is not defined",
     "output_type": "error",
     "traceback": [
      "\u001b[1;31m---------------------------------------------------------------------------\u001b[0m",
      "\u001b[1;31mNameError\u001b[0m                                 Traceback (most recent call last)",
      "Cell \u001b[1;32mIn[2], line 27\u001b[0m\n\u001b[0;32m     23\u001b[0m bs_coll \u001b[39m=\u001b[39m ee\u001b[39m.\u001b[39mFeatureCollection(fires_f)\u001b[39m.\u001b[39mmap(af\u001b[39m.\u001b[39mbs_calc_new)\n\u001b[0;32m     25\u001b[0m \u001b[39m# Save out intermediate to examine in CE\u001b[39;00m\n\u001b[0;32m     26\u001b[0m task \u001b[39m=\u001b[39m ee\u001b[39m.\u001b[39mbatch\u001b[39m.\u001b[39mExport\u001b[39m.\u001b[39mtable\u001b[39m.\u001b[39mtoAsset(collection \u001b[39m=\u001b[39m bs_coll,\n\u001b[1;32m---> 27\u001b[0m                                      description\u001b[39m=\u001b[39mdesc,\n\u001b[0;32m     28\u001b[0m                                      assetId\u001b[39m=\u001b[39m\u001b[39m'\u001b[39m\u001b[39mprojects/pyregence-ee/assets/fires_bs_tool/dmn_testing/\u001b[39m\u001b[39m'\u001b[39m \u001b[39m+\u001b[39m \u001b[39m'\u001b[39m\u001b[39mbs_intermed_windy_20230804\u001b[39m\u001b[39m'\u001b[39m,\n\u001b[0;32m     29\u001b[0m                                     )\n\u001b[0;32m     30\u001b[0m task\u001b[39m.\u001b[39mstart()\n\u001b[0;32m     33\u001b[0m bs_composite \u001b[39m=\u001b[39m ee\u001b[39m.\u001b[39mImageCollection(bs_coll)\u001b[39m.\u001b[39mmax()\u001b[39m.\u001b[39madd(\u001b[39m1\u001b[39m)\u001b[39m.\u001b[39mrename(\u001b[39m'\u001b[39m\u001b[39mSEVERITY\u001b[39m\u001b[39m'\u001b[39m) \u001b[39m#shift severity values +1 so 0 can be nodata\u001b[39;00m\n",
      "\u001b[1;31mNameError\u001b[0m: name 'desc' is not defined"
     ]
    }
   ],
   "source": [
    "# Running for a particular fire\n",
    "\n",
    "# Select the fire based on irwinID (or name and edit filter below)\n",
    "#fire_name = 'KNP COMPLEX' #fire_irwin = '499D6545-2A19-458A-8C7C-554932C6B86E'\n",
    "#fire_name = 'WINDY' #there are 2 WINDY fires, using irwinID # fire_irwin = 'ACD5C207-BB83-4419-977D-3F64778081A3'\n",
    "fire_irwin = 'ACD5C207-BB83-4419-977D-3F64778081A3'\n",
    "\n",
    "# Read in fire data\n",
    "fires = ee.FeatureCollection('projects/pyregence-ee/assets/conus/mtbs/mtbs_fires_2021_20230801')\n",
    "\n",
    "#print(f'Total Fires in FeatureCollection: {fires.size().getInfo()}')\n",
    "#print(fires.first().getInfo()['properties'])\n",
    "#print(fires.aggregate_array('Incid_Name').distinct().sort().getInfo())\n",
    "\n",
    "# Filter to desired fire\n",
    "#fires_f = fires.filter(ee.Filter.eq('Incid_Name',fire_name))\n",
    "fires_f = fires.filter(ee.Filter.eq('irwinID',fire_irwin))\n",
    "fire_name = fires_f.first().get('Incid_Name').getInfo() #brittle, make sure only 1 feature\n",
    "print(fire_name)\n",
    "#print(f'Filtered fire size: {fires_f.size().getInfo()}')\n",
    "\n",
    "# Run burn severity tool \n",
    "bs_coll = ee.FeatureCollection(fires_f).map(af.bs_calc_new)\n",
    "\n",
    "# Save out intermediate to examine in CE\n",
    "task = ee.batch.Export.table.toAsset(collection = bs_coll,\n",
    "                                     description='bs_intermed_windy_20230804',\n",
    "                                     assetId='projects/pyregence-ee/assets/fires_bs_tool/dmn_testing/bs_intermed_windy_20230804',\n",
    "                                    )\n",
    "task.start()\n",
    "\n",
    "\n",
    "bs_composite = ee.ImageCollection(bs_coll).max().add(1).rename('SEVERITY') #shift severity values +1 so 0 can be nodata\n",
    "\n",
    "# To Asset\n",
    "# get current date to put into asset name\n",
    "cur_date = datetime.datetime.now().strftime(\"%Y%m%d\")\n",
    "desc = f'mtbs_bs_{str(fire_name).replace(\" \", \"\")}_{str(cur_date)}'\n",
    "print(desc)\n",
    "utils.exportImgtoAsset(bs_composite, \n",
    "                    desc=desc,\n",
    "                    region=bs_composite.geometry(),\n",
    "                    asset_folder='projects/pyregence-ee/assets/fires_bs_tool/dmn_testing', \n",
    "                    export_type='single_fire', \n",
    "                    export=False) \n"
   ]
  },
  {
   "cell_type": "markdown",
   "metadata": {},
   "source": [
    "## ee authentication block"
   ]
  },
  {
   "cell_type": "code",
   "execution_count": null,
   "metadata": {},
   "outputs": [],
   "source": [
    "import ee\n",
    "ee.Authenticate()"
   ]
  },
  {
   "cell_type": "code",
   "execution_count": null,
   "metadata": {},
   "outputs": [],
   "source": [
    "#https://developers.google.com/earth-engine/guides/python_install\n",
    "import ee\n",
    "ee.Authenticate()\n",
    "ee.Initialize()\n",
    "print(ee.Image(\"NASA/NASADEM_HGT/001\").get(\"title\").getInfo())"
   ]
  }
 ],
 "metadata": {
  "kernelspec": {
   "display_name": "Python 3 (ipykernel)",
   "language": "python",
   "name": "python3"
  },
  "language_info": {
   "codemirror_mode": {
    "name": "ipython",
    "version": 3
   },
   "file_extension": ".py",
   "mimetype": "text/x-python",
   "name": "python",
   "nbconvert_exporter": "python",
   "pygments_lexer": "ipython3",
   "version": "3.10.12"
  },
  "vscode": {
   "interpreter": {
    "hash": "5456adbb3bcda72c3f039b556ea69b5085f7c81f44c93a142b7acd907f0ad587"
   }
  }
 },
 "nbformat": 4,
 "nbformat_minor": 4
}
